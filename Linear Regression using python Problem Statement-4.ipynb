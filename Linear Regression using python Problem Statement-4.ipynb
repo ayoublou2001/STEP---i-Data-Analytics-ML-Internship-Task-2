import pandas as pd
import seaborn as sns

df=pd.read_excel(r"C:\Users\USER\Downloads\Data_file.xlsx",header=2)
df

df=df.drop("S.No.",axis=1)
df.head()

df.shape
df.info()

sns.pairplot(df)

df=pd.get_dummies(df,drop_first=True)
df

sns.heatmap(df.corr(),cmap="coolwarm",linecolor="white",annot=True)

from sklearn.linear_model import LinearRegression

x_train=df.drop("CTC",axis=1)
y_train=df["CTC"]
model=LinearRegression()
model.fit(x_train,y_train)

df_test=pd.read_excel(r"C:\Users\USER\Downloads\Test_data_file.xlsx")
df_test

df_test=df_test.drop(["College_T1","College_T2","Role_Manager","City_Metro","Unnamed: 13","Unnamed: 14", "Unnamed: 15","Unnamed: 16","Unnamed: 17","Unnamed: 18","Unnamed: 19","Unnamed: 20","Unnamed: 21","Unnamed: 22","Unnamed: 23","Predicted CTC"], axis = 1)
df_test.rename(columns={"previous CTC": "Previous CTC", "previous job changes": "Previous job changes", "Exp": "Exp (Months)"}, inplace=True)
df_test.head()

df_test=pd.get_dummies(df_test,drop_first=True)
df_test

X_test=df_test.drop('Actual CTC',axis=1)
y_test=df_test['Actual CTC']

pred = model.predict(X_test)

from sklearn.metrics import mean_squared_error

print("Mean squared error =", mean_squared_error(y_test,pred))

predicted_df=pd.concat([df_test, pd.DataFrame(pred, columns=["Predicted CTC"])], axis=1)
predicted_df=predicted_df[["College_Tier 2", "College_Tier 3", "City type_Non-Metro", "Graduation marks", "Previous job changes", "Role_Manager", "Exp (Months)", "Pr
                           
                           
predicted_df
                           
